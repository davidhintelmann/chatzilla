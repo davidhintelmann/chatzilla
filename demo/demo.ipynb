{
 "cells": [
  {
   "cell_type": "markdown",
   "id": "2802d6ed",
   "metadata": {},
   "source": [
    "# Demo chatzilla"
   ]
  },
  {
   "cell_type": "markdown",
   "id": "26980ed0",
   "metadata": {},
   "source": [
    "## Imports\n",
    "\n",
    "first 7 lines are for relative imports using jupyter notebooks"
   ]
  },
  {
   "cell_type": "code",
   "execution_count": 1,
   "id": "2600d085",
   "metadata": {},
   "outputs": [],
   "source": [
    "import sys\n",
    "import os\n",
    "# Add the parent directory to the path\n",
    "notebook_dir = os.getcwd()\n",
    "project_root = os.path.abspath(os.path.join(notebook_dir, '..'))\n",
    "if project_root not in sys.path:\n",
    "    sys.path.append(project_root)\n",
    "\n",
    "import json\n",
    "import datetime\n",
    "import requests\n",
    "from dotenv import load_dotenv\n",
    "from pydantic import BaseModel, ValidationError, Field\n",
    "from typing import Dict, List, Literal, Union\n",
    "from chatzilla import zillaping, PromptOllama, ChatOllama\n",
    "from chatzilla.logger import save_history_to_json"
   ]
  },
  {
   "cell_type": "code",
   "execution_count": 3,
   "id": "c216c4a5",
   "metadata": {},
   "outputs": [],
   "source": [
    "load_dotenv() # rename .env.sample to .env\n",
    "ollama_url_ping = os.getenv(\"OLLAMA_URL\") # http://localhost:11434\n",
    "ollama_url_prompt = os.getenv(\"OLLAMA_GEN\") # http://localhost:11434/api/generate\n",
    "ollama_url_chat = os.getenv(\"OLLAMA_CHAT\") # http://localhost:11434/api/chat\n",
    "model = os.getenv(\"DEFAULT_MODEL\") # llama3.1"
   ]
  },
  {
   "cell_type": "markdown",
   "id": "6bf0a92a",
   "metadata": {},
   "source": [
    "## Ping ollama"
   ]
  },
  {
   "cell_type": "code",
   "execution_count": 4,
   "id": "b2b00dbb",
   "metadata": {},
   "outputs": [
    {
     "data": {
      "text/plain": [
       "'Ollama is running'"
      ]
     },
     "execution_count": 4,
     "metadata": {},
     "output_type": "execute_result"
    }
   ],
   "source": [
    "zillaping(ollama_url_ping)"
   ]
  },
  {
   "cell_type": "markdown",
   "id": "e15f9208",
   "metadata": {},
   "source": [
    "## Prompt\n",
    "\n",
    "Single prompt without any chat history"
   ]
  },
  {
   "cell_type": "code",
   "execution_count": 4,
   "id": "6cd28574",
   "metadata": {},
   "outputs": [
    {
     "name": "stdout",
     "output_type": "stream",
     "text": [
      "Here's one:\n",
      "\n",
      "\"You know what's wild? We spend the first year of a child's life teachin' 'em to walk and talk, and the rest of their lives tellin' 'em to shut up and sit down. That's just backwards, ain't it?\"\n"
     ]
    }
   ],
   "source": [
    "prompt = \"tell me a bill burr joke\"\n",
    "joke = PromptOllama(prompt, model, ollama_url_prompt)\n",
    "print(joke)"
   ]
  },
  {
   "cell_type": "markdown",
   "id": "252c41d7",
   "metadata": {},
   "source": [
    "## Chat with history"
   ]
  },
  {
   "cell_type": "code",
   "execution_count": 5,
   "id": "7398fb29",
   "metadata": {},
   "outputs": [
    {
     "name": "stdout",
     "output_type": "stream",
     "text": [
      "first message received:\n",
      "\tHere's one:\n",
      "\n",
      "\"You know what's wild? We spend the first year of a child's life teachin' 'em to walk and talk, and the rest of their lives tellin' 'em to shut up and sit down. That's just good business sense.\"\n",
      "\n",
      "(Note: Bill Burr is known for his edgy, sarcastic humor, so keep in mind that this joke might not be to everyone's taste!)\n",
      "\n",
      "\n",
      "second message received:\n",
      "\tHere's a more edgy Bill Burr-style joke:\n",
      "\n",
      "\"You know what they say about kids these days? They're all entitled and selfish. But you know who the real problem is? It's their parents, man. They're just as bad. 'My child was bullied... my child this... my child that.' No, your kid got pushed around on the playground because he's a little piece of garbage, okay? That's what happened. You didn't raise a superhero, you raised a Twitter account.\"\n",
      "\n",
      "(again, keep in mind that Bill Burr's humor is often not for everyone!)\n"
     ]
    }
   ],
   "source": [
    "chat = ChatOllama(ollama_url_chat, model)\n",
    "msg1 = chat.begin(prompt)\n",
    "msg2 = chat.next(\"make the joke edgy\")\n",
    "\n",
    "print(f\"first message received:\\n\\t{msg1}\\n\\n\")\n",
    "print(f\"second message received:\\n\\t{msg2}\")"
   ]
  },
  {
   "cell_type": "markdown",
   "id": "1f4ae208",
   "metadata": {},
   "source": [
    "## save chat history"
   ]
  },
  {
   "cell_type": "code",
   "execution_count": null,
   "id": "c43dee35",
   "metadata": {},
   "outputs": [],
   "source": [
    "save_history_to_json(chat.history())"
   ]
  },
  {
   "cell_type": "markdown",
   "id": "71b96e35",
   "metadata": {},
   "source": [
    "## Validate output\n",
    "\n",
    "Check out this [blog post](https://ollama.com/blog/structured-outputs) for more information on forcing ollama to return a specific response format"
   ]
  },
  {
   "cell_type": "code",
   "execution_count": 7,
   "id": "4a019ee2",
   "metadata": {},
   "outputs": [],
   "source": [
    "class Country(BaseModel):\n",
    "  name: str = Field(..., description=\"The name of the country\")\n",
    "  capital: str = Field(..., description=\"The capital city of the country\")\n",
    "  provinces: List[str] = Field(..., description=\"A list of all province names in the country\")\n",
    "  languages: List[str] = Field(..., description=\"A list of official languages spoken in the country\")\n",
    "\n",
    "format = Country.model_json_schema()"
   ]
  },
  {
   "cell_type": "code",
   "execution_count": 13,
   "id": "5faab553",
   "metadata": {},
   "outputs": [
    {
     "name": "stdout",
     "output_type": "stream",
     "text": [
      "{ \"name\": \"Canada\", \"capital\": \"Ottawa\", \"provinces\": [\"British Columbia\",\"Alberta\",\"Saskatchewan\",\"Manitoba\",\"Ontario\",\"Quebec\",\"Nova Scotia\",\"New Brunswick\",\"Prince Edward Island\",\"Newfoundland and Labrador\",\"Yukon\",\"Northwest Territories\",\"Nunavut\"] , \"languages\": [\"English, French\" ] }\n",
      "\n",
      "   \t    \t\t       \t\t\t\n"
     ]
    }
   ],
   "source": [
    "prompt = \"tell me about Canada\"\n",
    "info = PromptOllama(prompt, model, ollama_url_prompt, format)\n",
    "print(info)"
   ]
  },
  {
   "cell_type": "markdown",
   "id": "4c6d5267",
   "metadata": {},
   "source": [
    "use [pydantic](https://docs.pydantic.dev/latest/) to validate the response schema"
   ]
  },
  {
   "cell_type": "code",
   "execution_count": 14,
   "id": "c38a3155",
   "metadata": {},
   "outputs": [
    {
     "name": "stdout",
     "output_type": "stream",
     "text": [
      "name='Canada' capital='Ottawa' provinces=['British Columbia', 'Alberta', 'Saskatchewan', 'Manitoba', 'Ontario', 'Quebec', 'Nova Scotia', 'New Brunswick', 'Prince Edward Island', 'Newfoundland and Labrador', 'Yukon', 'Northwest Territories', 'Nunavut'] languages=['English, French']\n"
     ]
    }
   ],
   "source": [
    "try:\n",
    "    parsed = json.loads(info)\n",
    "    validated = Country(**parsed)\n",
    "    print(validated)\n",
    "except (json.JSONDecodeError, ValidationError) as e:\n",
    "    print(\"Validation failed:\", e)"
   ]
  },
  {
   "cell_type": "markdown",
   "id": "f8e8e6d9",
   "metadata": {},
   "source": [
    "## Tools\n",
    "\n",
    "ollama supports the use of tools, [click here](https://ollama.com/blog/tool-support) for more information\n",
    "\n",
    "Example below uses two tools:\n",
    "1. Simple python function to get the current time\n",
    "2. API request to [Open-meteo](https://open-meteo.com/en/docs?latitude=44.3001&longitude=-78.3162) to get weather data"
   ]
  },
  {
   "cell_type": "code",
   "execution_count": 5,
   "id": "bddfb529",
   "metadata": {},
   "outputs": [],
   "source": [
    "import openmeteo_requests\n",
    "\n",
    "import datetime\n",
    "import pandas as pd\n",
    "import requests_cache\n",
    "from retry_requests import retry"
   ]
  },
  {
   "cell_type": "code",
   "execution_count": 6,
   "id": "1ad86036",
   "metadata": {},
   "outputs": [],
   "source": [
    "def get_current_time() -> str:\n",
    "    return f\"{datetime.datetime.now()}\""
   ]
  },
  {
   "cell_type": "code",
   "execution_count": 12,
   "id": "503aab70",
   "metadata": {},
   "outputs": [],
   "source": [
    "def get_current_weather(latitude:float=44.3001, longitude:float=-78.3162) -> Dict[Literal['date'], Dict[str, Union[int, float]]]:\n",
    "    retry_session = retry(retries = 5, backoff_factor = 0.2)\n",
    "    openmeteo = openmeteo_requests.Client(session = retry_session)\n",
    "\n",
    "    # Make sure all required weather variables are listed here\n",
    "    # The order of variables in hourly or daily is important to assign them correctly below\n",
    "    url = \"https://api.open-meteo.com/v1/forecast\"\n",
    "    params = {\n",
    "        \"latitude\": latitude,\n",
    "        \"longitude\": longitude,\n",
    "        \"hourly\": \"temperature_2m\"\n",
    "    }\n",
    "    responses = openmeteo.weather_api(url, params=params)\n",
    "\n",
    "    # Process first location. Add a for-loop for multiple locations or weather models\n",
    "    response = responses[0]\n",
    "\n",
    "    # Process hourly data. The order of variables needs to be the same as requested.\n",
    "    hourly = response.Hourly()\n",
    "    hourly_temperature_2m = hourly.Variables(0).ValuesAsNumpy()\n",
    "\n",
    "    hourly_data = {\"date\": pd.date_range(\n",
    "        start = pd.to_datetime(hourly.Time(), unit = \"s\", utc = True),\n",
    "        end = pd.to_datetime(hourly.TimeEnd(), unit = \"s\", utc = True),\n",
    "        freq = pd.Timedelta(seconds = hourly.Interval()),\n",
    "        inclusive = \"left\"\n",
    "    )}\n",
    "\n",
    "    hourly_data[\"temperature_2m\"] = hourly_temperature_2m\n",
    "\n",
    "    hourly_dataframe = pd.DataFrame(data = hourly_data)\n",
    "    return hourly_dataframe"
   ]
  },
  {
   "cell_type": "code",
   "execution_count": 13,
   "id": "de45a60c",
   "metadata": {},
   "outputs": [],
   "source": [
    "tools = [\n",
    "    {\n",
    "        \"type\": \"function\",\n",
    "        \"function\": {\n",
    "            \"name\": \"get_current_weather\",\n",
    "            \"description\": \"Get the current weather for a given latitude and longitude\",\n",
    "            \"parameters\": {\n",
    "                \"type\": \"object\",\n",
    "                \"properties\": {\n",
    "                    \"latitude\": {\n",
    "                        \"type\": \"number\",\n",
    "                        \"description\": \"Latitude of the location\"\n",
    "                    },\n",
    "                    \"longitude\": {\n",
    "                        \"type\": \"number\",\n",
    "                        \"description\": \"Longitude of the location\"\n",
    "                    }\n",
    "                },\n",
    "                \"required\": [\"latitude\", \"longitude\"]\n",
    "            }\n",
    "        }\n",
    "    },\n",
    "    {\n",
    "        \"type\": \"function\",\n",
    "        \"function\": {\n",
    "            \"name\": \"get_current_time\",\n",
    "            \"description\": \"Get the current time of day\",\n",
    "            \"parameters\": {\n",
    "                \"type\": \"object\",\n",
    "                \"properties\": {\n",
    "                    \"timestamp\": {\n",
    "                        \"type\": \"number\",\n",
    "                        \"description\": \"current time\"\n",
    "                    }\n",
    "                },\n",
    "                \"required\": [\"timestamp\"]\n",
    "            }\n",
    "        }\n",
    "    }\n",
    "]"
   ]
  },
  {
   "cell_type": "markdown",
   "id": "5e2aecd3",
   "metadata": {},
   "source": [
    "use tool call to request weather data with `get_current_time` and `get_current_weather` functions."
   ]
  },
  {
   "cell_type": "code",
   "execution_count": 14,
   "id": "33b646b7",
   "metadata": {},
   "outputs": [
    {
     "data": {
      "text/plain": [
       "{'model': 'llama3.1',\n",
       " 'created_at': '2025-05-19T05:09:45.5538369Z',\n",
       " 'message': {'role': 'assistant',\n",
       "  'content': '',\n",
       "  'tool_calls': [{'function': {'name': 'get_current_weather',\n",
       "     'arguments': {'latitude': 44.15, 'longitude': -78.2056}}},\n",
       "   {'function': {'name': 'get_current_time', 'arguments': {}}}]},\n",
       " 'done_reason': 'stop',\n",
       " 'done': True,\n",
       " 'total_duration': 6133074600,\n",
       " 'load_duration': 16704500,\n",
       " 'prompt_eval_count': 236,\n",
       " 'prompt_eval_duration': 336864300,\n",
       " 'eval_count': 132,\n",
       " 'eval_duration': 5778981900}"
      ]
     },
     "execution_count": 14,
     "metadata": {},
     "output_type": "execute_result"
    }
   ],
   "source": [
    "h = {\"Content-Type\":\"application/json\"}\n",
    "d = {\n",
    "    \"model\":model,\n",
    "    \"messages\": [{\n",
    "        \"role\": \"user\", \n",
    "        \"content\": \"What is the weather like right now in Peterborough Ontario (use Celsius)? Additionally, return the time of day.\"\n",
    "    }],\n",
    "    \"stream\":False,\n",
    "    \"tools\":tools\n",
    "}\n",
    "\n",
    "response_json = requests.post(ollama_url_chat, headers=h, json=d).json()\n",
    "response_json"
   ]
  },
  {
   "cell_type": "markdown",
   "id": "84047be2",
   "metadata": {},
   "source": [
    "parse output from assistant, note the `tool_calls` field in the json response above. This can now be used to call python functions using those arguments"
   ]
  },
  {
   "cell_type": "code",
   "execution_count": 15,
   "id": "6b18b1a0",
   "metadata": {},
   "outputs": [],
   "source": [
    "for func in response_json['message']['tool_calls']:\n",
    "    match func['function']['name']:\n",
    "        case 'get_current_weather':\n",
    "            current_weather = get_current_weather(func['function']['arguments']['latitude'], func['function']['arguments']['longitude'])\n",
    "        case 'get_current_time':\n",
    "            current_time = get_current_time()"
   ]
  },
  {
   "cell_type": "markdown",
   "id": "55bd8268",
   "metadata": {},
   "source": [
    "include chat history and send another request to include the data returned from python functions into the chat history\n",
    "\n",
    "first message must be using `user` role and the second message must be the `tool` role, also include the tools list into the body of request"
   ]
  },
  {
   "cell_type": "code",
   "execution_count": 16,
   "id": "c1571004",
   "metadata": {},
   "outputs": [
    {
     "data": {
      "text/plain": [
       "{'model': 'llama3.1',\n",
       " 'created_at': '2025-05-19T05:09:50.5857908Z',\n",
       " 'message': {'role': 'assistant',\n",
       "  'content': 'Based on the weather data, it appears that at this moment (01:09:46), the temperature in Peterborough, Ontario is approximately 10.87°C. The time of day is currently 01:09 AM.'},\n",
       " 'done_reason': 'stop',\n",
       " 'done': True,\n",
       " 'total_duration': 2309334200,\n",
       " 'load_duration': 16198300,\n",
       " 'prompt_eval_count': 374,\n",
       " 'prompt_eval_duration': 385715900,\n",
       " 'eval_count': 47,\n",
       " 'eval_duration': 1904814700}"
      ]
     },
     "execution_count": 16,
     "metadata": {},
     "output_type": "execute_result"
    }
   ],
   "source": [
    "h = {\"Content-Type\":\"application/json\"}\n",
    "d = {\n",
    "    \"model\":model,\n",
    "    \"messages\": [\n",
    "        {\n",
    "            \"role\": \"user\", \n",
    "            \"content\": \"What is the weather like right now in Peterborough Ontario (use Celsius)? Additionally, return the time of day.\"\n",
    "        },\n",
    "        {\n",
    "            \"role\": \"tool\",\n",
    "            \"content\": f\"current time:\\n{current_time}\\nweather data:\\n{current_weather}\"\n",
    "        }\n",
    "    ],\n",
    "    \"tools\":tools\n",
    "}\n",
    "\n",
    "response_json = requests.post(ollama_url_chat, headers=h, json=d).json()\n",
    "response_json"
   ]
  }
 ],
 "metadata": {
  "kernelspec": {
   "display_name": "ollama",
   "language": "python",
   "name": "python3"
  },
  "language_info": {
   "codemirror_mode": {
    "name": "ipython",
    "version": 3
   },
   "file_extension": ".py",
   "mimetype": "text/x-python",
   "name": "python",
   "nbconvert_exporter": "python",
   "pygments_lexer": "ipython3",
   "version": "3.11.5"
  }
 },
 "nbformat": 4,
 "nbformat_minor": 5
}
